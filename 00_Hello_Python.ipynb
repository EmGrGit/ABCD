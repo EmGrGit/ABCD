{
  "nbformat": 4,
  "nbformat_minor": 0,
  "metadata": {
    "colab": {
      "name": "00_Hello_Python.ipynb",
      "provenance": [],
      "authorship_tag": "ABX9TyPMjud2QYg0vlAVkHwTa2gI",
      "include_colab_link": true
    },
    "kernelspec": {
      "name": "python3",
      "display_name": "Python 3"
    },
    "language_info": {
      "name": "python"
    }
  },
  "cells": [
    {
      "cell_type": "markdown",
      "metadata": {
        "id": "view-in-github",
        "colab_type": "text"
      },
      "source": [
        "<a href=\"https://colab.research.google.com/github/EmGrGit/ABCD/blob/main/00_Hello_Python.ipynb\" target=\"_parent\"><img src=\"https://colab.research.google.com/assets/colab-badge.svg\" alt=\"Open In Colab\"/></a>"
      ]
    },
    {
      "cell_type": "code",
      "metadata": {
        "id": "IjoCPvvLNdSM"
      },
      "source": [
        "# CPU-> semiconductors, transistors\n",
        "#    -> hardware -> Motherboards, RAM, Processor\n",
        "\n",
        "# computer only understands 0 and 1\n",
        "# 10,11,12...\n",
        "# 10 fingers -> decimal counting\n",
        "\n",
        "# 0... 1\n",
        "# computers work in a very simple way, On and Off logic---- True and False---- 1 and 0\n",
        "# This is called boolean logic\n",
        "\n",
        "# Gates -> Most important function is Not(Inventor)\n",
        "# Input Logic           Output Logic\n",
        "#   ON or True or 1       OFF or False or 0 \n",
        "# bulb1. bulb2.\n",
        "# Input1. Input2. And Gate  Or Gate ExclusiveOR (XOR)\n",
        "# 0         0       0         0       0\n",
        "# 0         1       0         1       1\n",
        "# 1         0       0         1       1\n",
        "# 1         1       1         1       0\n",
        "\n",
        "if(True and True): #e.g. if((5>3)and(-2<-10))\n",
        "  print(\"Yes True\")\n",
        "if(True and False):\n",
        "  print(\"Why True\")\n",
        "if(True or False):\n",
        "  print(\"OK, still working\")\n",
        "\n",
        "# set theory -> {banana,banana,apple, apple}\n",
        "# => {banana, apple} == {apple, banana}\n",
        "\n",
        "# Set -> UNORDERED, UNINDEXED\n",
        "set1={1.42,'banana','banana'0,'Pikachu',False}\n",
        "# Set is identified by {}\n",
        "\n",
        "# list -> ORDERED, INDEXED\n",
        "list1=['banana','banana',0,False]\n",
        "# index= 0.       1.     2. 3. (automatically made)\n",
        "#List is identified by []\n",
        "\n",
        "# Special set -> dictionary\n",
        "# Unordered, Indexed\n",
        "# indexing happens through KEY - VALUE pairs\n",
        "# list -> in case of a list, the index was atoumatically created\n",
        "# incase of set, we can create OUR indexing\n",
        "\n",
        "# Anything can be indexed!\n",
        "d1 = {1:42\n",
        "      \"Pikachu\":-42\n",
        "      False: \"Hello World\"}\n",
        "\n",
        "# len = length\n",
        "# e.g len(\"ABCDEFG\")\n",
        "# prints 7"
      ],
      "execution_count": null,
      "outputs": []
    }
  ]
}